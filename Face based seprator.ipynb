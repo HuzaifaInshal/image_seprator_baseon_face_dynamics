{
 "cells": [
  {
   "cell_type": "code",
   "execution_count": null,
   "id": "ba6c9ff4",
   "metadata": {},
   "outputs": [],
   "source": [
    "from deepface import DeepFace\n",
    "import cv2\n",
    "import matplotlib.pyplot as plt\n",
    "import os\n",
    "import shutil"
   ]
  },
  {
   "cell_type": "code",
   "execution_count": null,
   "id": "5668f9d0",
   "metadata": {},
   "outputs": [],
   "source": [
    "#specify your path here\n",
    "imgpath = \"C:\\\\Users\\\\Huzaifa\\\\Desktop\\\\Separtor\\\\dataset\""
   ]
  },
  {
   "cell_type": "code",
   "execution_count": null,
   "id": "a8dd1515",
   "metadata": {},
   "outputs": [],
   "source": [
    "imgpath2 = (os.path.split(imgpath))[0]\n",
    "count=1\n",
    "counta=0\n",
    "total=len(os.listdir(imgpath))\n",
    "print('PROCESS HAS BEEN STARTED!')\n",
    "print('\\nTotal files found are:',total,'\\n\\n\\n')\n",
    "for i in os.listdir(imgpath):\n",
    "    counta+=1\n",
    "    imgurl=imgpath+'\\\\'+i\n",
    "    if count==1:\n",
    "        print('+++++ PROCESS FOR PICTURE-1 STARTED')\n",
    "        appliedpath = imgpath2+'\\\\'+'applied'\n",
    "        os.mkdir(appliedpath)\n",
    "        newpath = appliedpath+'\\\\'+'person_'+str(count)\n",
    "        os.mkdir(newpath)\n",
    "        shutil.copyfile(imgurl, newpath+'\\\\'+i)\n",
    "        print('\\t-- new folder was created for PICTURE-1 with name as person_1')\n",
    "        print(\"\\t-- completed process for PICTURE-\"+str(counta))\n",
    "        count+=1\n",
    "    else:\n",
    "        yo_path = os.listdir(appliedpath)\n",
    "        sec_count = 0\n",
    "        max_count=len(yo_path)\n",
    "        print('+++++ PROCESS FOR PICTURE-'+str(counta),'STARTED')\n",
    "        for j in yo_path:\n",
    "            sec_count+=1\n",
    "            print('\\t-- checking with person_'+str(sec_count))\n",
    "            new_appliedpath=appliedpath+'\\\\'+j\n",
    "            a = os.listdir(new_appliedpath)\n",
    "            imgurl2 = new_appliedpath+'\\\\'+str(a[0])\n",
    "            result = DeepFace.verify(imgurl,imgurl2,enforce_detection=False)\n",
    "            try:\n",
    "                result = DeepFace.verify(imgurl,imgurl2)\n",
    "            except:\n",
    "                if 'not_a_person' in os.listdir(appliedpath):\n",
    "                    print('\\t-- picture doesnt contains face')\n",
    "                    shutil.copyfile(imgurl,del_path+'\\\\'+i)\n",
    "                    print('\\t-- completed process for PICTURE-'+str(counta))\n",
    "                else:\n",
    "                    del_path=appliedpath+'\\\\'+'not_a_person'\n",
    "                    os.mkdir(del_path)\n",
    "                    print('\\t-- picture doesnt contains face')\n",
    "                    shutil.copyfile(imgurl,del_path+'\\\\'+i)\n",
    "                    print('\\t-- completed process for PICTURE-'+str(counta))\n",
    "            if result[\"verified\"]==True:\n",
    "                print('\\t\\t-- founded with person_'+str(sec_count))\n",
    "                shutil.copyfile(imgurl,new_appliedpath+'\\\\'+i)\n",
    "                #print('copied from:',imgurl,'to',new_appliedpath+'\\\\'+i)\n",
    "            elif (sec_count < max_count):\n",
    "                print('\\t\\t-- not founded with person_'+str(sec_count))\n",
    "                pass\n",
    "            elif (sec_count == max_count):\n",
    "                print('\\t\\t-- not founded with person_'+str(sec_count))\n",
    "                print('\\t-- new folder was created for PICTURE-'+str(counta),'with name as person_'+str(count))\n",
    "                new_pic_found = appliedpath+'\\\\'+'person_'+str(count)\n",
    "                os.mkdir(new_pic_found)\n",
    "                #print('directory created:',new_pic_found)\n",
    "                shutil.copyfile(imgurl,new_pic_found+'\\\\'+i)\n",
    "                #print('copied from:',imgurl,'to',new_pic_found+'\\\\'+i)\n",
    "                count+=1\n",
    "        print('\\t-- completed process for PICTURE-'+str(counta))\n",
    "\n",
    "        \n",
    "print('\\n\\n\\n++++ PROCESS HAS BEEN COMPLETED FOR ALL',total,'PICTURES!')"
   ]
  },
  {
   "cell_type": "code",
   "execution_count": null,
   "id": "93399bf6",
   "metadata": {},
   "outputs": [],
   "source": []
  }
 ],
 "metadata": {
  "kernelspec": {
   "display_name": "Python 3 (ipykernel)",
   "language": "python",
   "name": "python3"
  },
  "language_info": {
   "codemirror_mode": {
    "name": "ipython",
    "version": 3
   },
   "file_extension": ".py",
   "mimetype": "text/x-python",
   "name": "python",
   "nbconvert_exporter": "python",
   "pygments_lexer": "ipython3",
   "version": "3.10.6"
  }
 },
 "nbformat": 4,
 "nbformat_minor": 5
}
